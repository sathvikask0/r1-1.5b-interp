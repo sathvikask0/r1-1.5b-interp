{
 "cells": [
  {
   "cell_type": "code",
   "execution_count": 10,
   "metadata": {},
   "outputs": [],
   "source": [
    "import json\n",
    "\n",
    "def read_jsonl_basic(file_path):\n",
    "    data = []\n",
    "    with open(file_path, 'r') as file:\n",
    "        for line in file:\n",
    "            if line.strip():  # Skip empty lines\n",
    "                json_obj = json.loads(line)\n",
    "                data.append(json_obj)\n",
    "    return data\n",
    "\n",
    "def calculate_metrics(data):\n",
    "    # Initialize counters\n",
    "    pass_at_1_total = 0\n",
    "    pass_at_16_majority = 0\n",
    "    \n",
    "    for j in range(30):  # For each problem\n",
    "        # Count correct first attempts for this problem\n",
    "        passed = 0\n",
    "        for i in range(16):  # For each sample\n",
    "            if data[j]['generated_answers'][i] == data[j]['gold_answer']:\n",
    "                passed += 1\n",
    "                \n",
    "        # Pass@1 is average of success rate\n",
    "        pass_at_1_total += (passed / 16)\n",
    "        \n",
    "        # Pass@16 majority (more than 8 correct)\n",
    "        if passed > 8:\n",
    "            pass_at_16_majority += 1\n",
    "    \n",
    "    # Calculate final percentages\n",
    "    pass_at_1_accuracy = (pass_at_1_total / 30) * 100\n",
    "    pass_at_16_accuracy = (pass_at_16_majority / 30) * 100\n",
    "    \n",
    "    return pass_at_1_accuracy, pass_at_16_accuracy\n",
    "\n"
   ]
  },
  {
   "cell_type": "markdown",
   "metadata": {},
   "source": [
    "# r1-1.5b"
   ]
  },
  {
   "cell_type": "code",
   "execution_count": 12,
   "metadata": {},
   "outputs": [
    {
     "name": "stdout",
     "output_type": "stream",
     "text": [
      "Pass@1: 30.42%\n",
      "Pass@16 (majority): 23.33%\n"
     ]
    }
   ],
   "source": [
    "r1_1_5_data_path = 'aime-eval-runs/test_qwen-instruct_t0.6_k64_s0_e30_r1_1.5b.jsonl'\n",
    "r1_1_5_data = read_jsonl_basic(r1_1_5_data_path)\n",
    "\n",
    "# Example usage\n",
    "pass_1, pass_16 = calculate_metrics(r1_1_5_data)\n",
    "print(f\"Pass@1: {pass_1:.2f}%\")\n",
    "print(f\"Pass@16 (majority): {pass_16:.2f}%\")\n"
   ]
  },
  {
   "cell_type": "markdown",
   "metadata": {},
   "source": [
    "# qwen2.5-1.5B-base model"
   ]
  },
  {
   "cell_type": "code",
   "execution_count": 13,
   "metadata": {},
   "outputs": [
    {
     "name": "stdout",
     "output_type": "stream",
     "text": [
      "Pass@1: 6.88%\n",
      "Pass@16 (majority): 0.00%\n"
     ]
    }
   ],
   "source": [
    "qwen_base_path = 'aime-eval-runs/test_qwen-instruct_t0.6_k64_s0_e30_qwen-base.jsonl'\n",
    "qwen_base_data = read_jsonl_basic(qwen_base_path)\n",
    "\n",
    "\n",
    "# Example usage\n",
    "pass_1, pass_16 = calculate_metrics(qwen_base_data)\n",
    "print(f\"Pass@1: {pass_1:.2f}%\")\n",
    "print(f\"Pass@16 (majority): {pass_16:.2f}%\")\n"
   ]
  },
  {
   "cell_type": "markdown",
   "metadata": {},
   "source": [
    "# deepscaler model"
   ]
  },
  {
   "cell_type": "code",
   "execution_count": 15,
   "metadata": {},
   "outputs": [
    {
     "name": "stdout",
     "output_type": "stream",
     "text": [
      "Pass@1: 40.83%\n",
      "Pass@16 (majority): 36.67%\n"
     ]
    }
   ],
   "source": [
    "deepscaler_path = 'aime-eval-runs/test_qwen-instruct_t0.6_k64_s0_e30_agenticorg_deepscaler.jsonl'\n",
    "deepscaler_data = read_jsonl_basic(deepscaler_path)\n",
    "\n",
    "# Example usage\n",
    "pass_1, pass_16 = calculate_metrics(deepscaler_data)\n",
    "print(f\"Pass@1: {pass_1:.2f}%\")\n",
    "print(f\"Pass@16 (majority): {pass_16:.2f}%\")"
   ]
  },
  {
   "cell_type": "code",
   "execution_count": null,
   "metadata": {},
   "outputs": [],
   "source": []
  }
 ],
 "metadata": {
  "kernelspec": {
   "display_name": "base",
   "language": "python",
   "name": "python3"
  },
  "language_info": {
   "codemirror_mode": {
    "name": "ipython",
    "version": 3
   },
   "file_extension": ".py",
   "mimetype": "text/x-python",
   "name": "python",
   "nbconvert_exporter": "python",
   "pygments_lexer": "ipython3",
   "version": "3.12.8"
  }
 },
 "nbformat": 4,
 "nbformat_minor": 2
}
